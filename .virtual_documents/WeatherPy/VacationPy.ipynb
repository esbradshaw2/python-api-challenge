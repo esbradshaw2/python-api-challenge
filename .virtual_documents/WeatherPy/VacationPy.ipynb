


# Dependencies and Setup
import hvplot.pandas
import pandas as pd
import requests

# Import API key
from api_keys import geoapify_key


# Load the CSV file created in Part 1 into a Pandas DataFrame
city_data_df = pd.read_csv("output_data/cities.csv")

# Display sample data
city_data_df.head()





%%capture --no-display

# Configure the map plot
import folium

map_center = [0, 0]
vacation_map = folium.Map(location=map_center, zoom_start=2)


# Display the map
vacation_map





# Narrow down cities that fit criteria and drop any results with null values
narrowed_city_df = city_data_df[(city_data_df["Temperature"] < 27) & 
                                (city_data_df["Temperature"] > 21) & 
                                (city_data_df["Wind Speed"] < 4.5) & 
                                (city_data_df["Cloudiness"] == 0)]


# Drop any rows with null values
narrowed_city_df = narrowed_city_df.dropna()

# Display sample data
narrowed_city_df.head()





# Use the Pandas copy function to create DataFrame called hotel_df to store the city, country, coordinates, and humidity
hotel_df = narrowed_city_df.copy()

# Add an empty column, "Hotel Name," to the DataFrame so you can store the hotel found using the Geoapify API
hotel_df["Hotel Name"] = ""

# Display sample data
hotel_df.head()





# Set parameters to search for a hotel
radius = 10000
params = {
    "type": "hotel",
    "radius": radius,
    "limit": 1,
    "apiKey": geoapify_key
}

# Print a message to follow up the hotel search
print("Starting hotel search")

# Iterate through the hotel_df DataFrame
for index, row in hotel_df.iterrows():
    # get latitude, longitude from the DataFrame
    lat = row["Latitude"]
    lng = row["Longitude"]
    
    # Add filter and bias parameters with the current city's latitude and longitude to the params dictionary
    params["filter"] = f"circle:{radius}@{lng},{lat}"
    params["bias"] = f"point:{lng},{lat}"
    
    # Set base URL
    base_url = "https://api.geoapify.com/v2/places"


    # Make and API request using the params dictionaty
    name_address = requests.get(base_url, params=params)
    
    # Convert the API response to JSON format
    name_address = response.json()
    
    # Grab the first hotel from the results and store the name in the hotel_df DataFrame
    try:
        hotel_df.loc[index, "Hotel Name"] = name_address["features"][0]["properties"]["name"]
    except (KeyError, IndexError):
        # If no hotel is found, set the hotel name as "No hotel found".
        hotel_df.loc[index, "Hotel Name"] = "No hotel found"
        
    # Log the search results
    print(f"{hotel_df.loc[index, 'City']} - nearest hotel: {hotel_df.loc[index, 'Hotel Name']}")

# Display sample data
hotel_df





%%capture --no-display

# Configure the map plot
for index, row in hotel_df.iterrows():
    hotel_lat = row["Latitude"]
    hotel_lng = row["Longitude"]
    hotel_name = row["Hotel Name"]

    # Add a marker for each hotel
    folium.Marker([hotel_lat, hotel_lng], popup=hotel_name).add_to(vacation_map)


# Display the map
vacation_map
